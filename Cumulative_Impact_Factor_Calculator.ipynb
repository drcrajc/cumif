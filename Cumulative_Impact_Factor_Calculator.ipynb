{
  "nbformat": 4,
  "nbformat_minor": 0,
  "metadata": {
    "colab": {
      "provenance": []
    },
    "kernelspec": {
      "name": "python3",
      "display_name": "Python 3"
    },
    "language_info": {
      "name": "python"
    }
  },
  "cells": [
    {
      "cell_type": "code",
      "execution_count": 1,
      "metadata": {
        "colab": {
          "base_uri": "https://localhost:8080/"
        },
        "id": "v2yH7jELZuYW",
        "outputId": "120dd666-8142-4850-8ba7-e4fe4fb3f621"
      },
      "outputs": [
        {
          "output_type": "stream",
          "name": "stdout",
          "text": [
            "57.1\n"
          ]
        }
      ],
      "source": [
        "import pandas as pd\n",
        "\n",
        "# Create a list of data\n",
        "data = [\n",
        "    [\"Journal of Materials Science: Materials in Electronics\", 3, 0.681, 4.6],\n",
        "    [\"IOP Conference Series: Earth and Environmental Science\", 3, 0.255, 0.8],\n",
        "    [\"International Journal of Advanced Science and Technology\", 2, 0.342, -1],\n",
        "    [\"Proceedings of the 4th International Conference on Devices, Circuits and Systems, ICDCS 2018\", 2, 0, 0],\n",
        "    [\"Key Engineering Materials\", 1, 0.238, 0.9],\n",
        "    [\"Sensors\", 1, 1.317, 6.8],\n",
        "    [\"ECS Transactions\", 1, 0.281, -1],\n",
        "    [\"Journal of Nanophotonics\", 1, 0.503, 2.7],\n",
        "    [\"Nanotechnology Reviews\", 1, 1.376, 9.1],\n",
        "    [\"Proceedings of the 2020 IEEE International Conference on Communication and Signal Processing, ICCSP\", 1, 0, 0],\n",
        "    [\"ICPECTS 2020 - IEEE 2nd International Conference on Power, Energy, Control and Transmission Systems,\", 1, 0, 0],\n",
        "    [\"Materials Today\", 1, 3.327, 33.5],\n",
        "    [\"AIP Conference Proceedings\", 1, 0.247, 0.7],\n",
        "]\n",
        "\n",
        "# Create a DataFrame\n",
        "df = pd.DataFrame(data, columns=[\"Scopus Source\", \"Publications\", \"SNIP\", \"CiteScore 2022\"])\n",
        "\n",
        "# Replace '-' with 0\n",
        "df['CiteScore 2022'].replace('-', 0, inplace=True)\n",
        "\n",
        "# Calculate the total impact factor\n",
        "total_impact_factor = df['CiteScore 2022'].sum()\n",
        "\n",
        "# Print the total impact factor\n",
        "print(total_impact_factor)"
      ]
    }
  ]
}